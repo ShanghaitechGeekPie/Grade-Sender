{
 "cells": [
  {
   "cell_type": "markdown",
   "metadata": {},
   "source": [
    "# Grade Sender"
   ]
  },
  {
   "cell_type": "markdown",
   "metadata": {},
   "source": [
    "This is a self-developed script to parse the grading sheet, to compose and to send the score report to student.\n",
    "A typical scoresheet in ShanghaiTech University has the following fields:\n",
    "- Student ID, e.g. 12345678\n",
    "- Student Name, e.g. Doe Joe\n",
    "- Grade, e.g. Bachelor of class 2014\n",
    "- Tutor of the course, e.g. Prof. Zhang\n",
    "- Email, e.g. xxx@shanghaitech.edu.cn\n",
    "- Score"
   ]
  },
  {
   "cell_type": "markdown",
   "metadata": {},
   "source": [
    "# Configurations"
   ]
  },
  {
   "cell_type": "code",
   "execution_count": null,
   "metadata": {},
   "outputs": [],
   "source": [
    "import gradeSender as gs\n",
    "\n",
    "gs.DEBUG = True # Switch to False when deployed :D\n",
    "\n",
    "gs.user_account = \"xyz@whatever.com\"\n",
    "gs.user_password = \"password/autherization_code\" # autherization code if using 163, qq, etc.\n",
    "\n",
    "gs.user_smtp_server = \"smtp.whatever.com\" # some may use mail.whatever.com as an alternative\n",
    "gs.user_smtp_port = \"\" # if not provided, server use mail.whatever.com instead\n",
    "\n",
    "gs.file_to_open = 'example.csv' # currently only support csv file parsing\n",
    "gs.sent_list_file = './sent_list.txt'\n",
    "gs.waiting_list, gs.sent_list = {}, {}\n",
    "\n",
    "# Try to connect, continue if succeed, check if failed\n",
    "gs.server = gs.connect(gs.user_smtp_server, gs.user_smtp_port, gs.user_account, gs.user_password)"
   ]
  },
  {
   "cell_type": "markdown",
   "metadata": {
    "collapsed": true
   },
   "source": [
    "# Email Template:"
   ]
  },
  {
   "cell_type": "code",
   "execution_count": null,
   "metadata": {},
   "outputs": [],
   "source": [
    "# Email template, you may change it as you like\n",
    "# make sure it has correspondence fields for formatting\n",
    "gs.subject = \"yourSubject\"\n",
    "gs.content = \"\"\"\n",
    "        <html>\n",
    "          <head></head>\n",
    "          <body>\n",
    "            <p>Hi {}, <br><br>\n",
    "               Your ID is <strong>{}</strong>，the score is <strong>{}</strong>,<br>\n",
    "               If you have question, pls come for <strong>WHO</strong> at <strong>WHEN</strong>, in <strong>WHERE</strong><br>\n",
    "               Make appointment ahead of time\n",
    "            </p>\n",
    "          </body>\n",
    "        </html>\n",
    "        \"\"\""
   ]
  },
  {
   "cell_type": "markdown",
   "metadata": {},
   "source": [
    "## Load CSV file, check template"
   ]
  },
  {
   "cell_type": "code",
   "execution_count": null,
   "metadata": {},
   "outputs": [],
   "source": [
    "gs.waiting_list, gs.sent_list = gs.initiate(gs.file_to_open, gs.waiting_list, )\n",
    "temp = gs.waiting_list[0]\n",
    "print(gs.content.format(temp[1], temp[0], temp[3])) # Name, ID, Score"
   ]
  },
  {
   "cell_type": "markdown",
   "metadata": {},
   "source": [
    "#### use markdown to preview"
   ]
  },
  {
   "cell_type": "markdown",
   "metadata": {},
   "source": [
    "<html>\n",
    "  <head></head>\n",
    "  <body>\n",
    "    <p>Hi Doe Joe,<br><br>\n",
    "        Your ID is <strong>97XXXX63</strong>, the score is <strong>99</strong>,<br>\n",
    "        If you have question, pls come for <strong>WHO</strong> at <strong>WHEN</strong>, in <strong>WHERE</strong><br>\n",
    "        Make appointment ahead of time\n",
    "    </p>\n",
    "  </body>\n",
    "</html>"
   ]
  },
  {
   "cell_type": "markdown",
   "metadata": {},
   "source": [
    "# Try the best to send the score!\n",
    "\n",
    "**ATTENTION: 5 ships / min if connected using SMTP**"
   ]
  },
  {
   "cell_type": "code",
   "execution_count": null,
   "metadata": {
    "scrolled": false
   },
   "outputs": [],
   "source": [
    "try:\n",
    "    gs.send_score(gs.waiting_list, gs.sent_list)\n",
    "except:\n",
    "    print(\"failed!\")\n",
    "    gs.write_sent_list(gs.waiting_list, gs.sent_list)"
   ]
  },
  {
   "cell_type": "markdown",
   "metadata": {},
   "source": [
    "# Done!"
   ]
  }
 ],
 "metadata": {
  "kernelspec": {
   "display_name": "Python 3",
   "language": "python",
   "name": "python3"
  },
  "language_info": {
   "codemirror_mode": {
    "name": "ipython",
    "version": 3
   },
   "file_extension": ".py",
   "mimetype": "text/x-python",
   "name": "python",
   "nbconvert_exporter": "python",
   "pygments_lexer": "ipython3",
   "version": "3.6.2"
  }
 },
 "nbformat": 4,
 "nbformat_minor": 2
}

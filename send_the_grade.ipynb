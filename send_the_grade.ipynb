{
 "cells": [
  {
   "cell_type": "markdown",
   "metadata": {},
   "source": [
    "# Grade Sender"
   ]
  },
  {
   "cell_type": "markdown",
   "metadata": {},
   "source": [
    "This is a self-developed script to parse the grading sheet, to compose and to send the score report to student.\n",
    "A typical scoresheet in ShanghaiTech University has the following fields:\n",
    "- Student ID, e.g. 12345678\n",
    "- Student Name, e.g. Doe Joe\n",
    "- Grade, e.g. Bachelor of class 2014\n",
    "- Tutor of the course, e.g. Prof. Zhang\n",
    "- Email, e.g. xxx@shanghaitech.edu.cn\n",
    "- Score"
   ]
  },
  {
   "cell_type": "code",
   "execution_count": null,
   "metadata": {},
   "outputs": [],
   "source": [
    "import gradeSender as gs\n",
    "\n",
    "gs.DEBUG = True\n",
    "gs.user_account = \"xxx@xyz.com\"\n",
    "gs.user_password = \"password/autherization_code\" # autherization code if using 163, qq, etc.\n",
    "gs.user_smtp_server = \"smtp.xyz.com\"\n",
    "gs.user_smtp_port = 587\n",
    "gs.file_to_open = 'xxxxx.csv' # currently only support csv file parsing\n",
    "gs.sent_list_file = './sent_list.txt'\n",
    "gs.waiting_list, sent_list = {}, {}\n"
   ]
  },
  {
   "cell_type": "markdown",
   "metadata": {
    "collapsed": true
   },
   "source": [
    "## Template email:"
   ]
  },
  {
   "cell_type": "code",
   "execution_count": null,
   "metadata": {
    "collapsed": true
   },
   "outputs": [],
   "source": [
    "# Email template\n",
    "gs.content = \"\"\"\n",
    "        <html>\n",
    "          <head></head>\n",
    "          <body>\n",
    "            <p>Hi {},<br><br>\n",
    "               You midterm score report:<br>\n",
    "               Student ID: <strong>{}</strong>, Score: <strong>{}</strong>,<br>\n",
    "               Contact with your assigned TA if any question.<br>\n",
    "               Grade appeal will lead to answersheet regrading, which may lower your score.<br><br>\n",
    "               Best regards,<br>\n",
    "               Instructors\n",
    "            </p>\n",
    "          </body>\n",
    "        </html>\n",
    "        \"\"\""
   ]
  },
  {
   "cell_type": "markdown",
   "metadata": {},
   "source": [
    "## Try connecting to the smtp server"
   ]
  },
  {
   "cell_type": "code",
   "execution_count": null,
   "metadata": {},
   "outputs": [],
   "source": [
    "gs.server = gs.connect(gs.user_smtp_server, gs.user_smtp_port, gs.user_account, gs.user_password)"
   ]
  },
  {
   "cell_type": "markdown",
   "metadata": {},
   "source": [
    "## Load the data from csv file into a waiting list."
   ]
  },
  {
   "cell_type": "code",
   "execution_count": null,
   "metadata": {
    "scrolled": true
   },
   "outputs": [],
   "source": [
    "waiting_list, sent_list = gs.read_waiting_list(gs.file_to_open, gs.waiting_list)"
   ]
  },
  {
   "cell_type": "markdown",
   "metadata": {},
   "source": [
    "### Check if there is a sent_list.txt for updating the current sent state for each receiver."
   ]
  },
  {
   "cell_type": "code",
   "execution_count": null,
   "metadata": {},
   "outputs": [],
   "source": [
    "try:\n",
    "    sent_list = gs.read_sent_list(gs.sent_list_file, gs.sent_list)\n",
    "except:\n",
    "    gs.write_sent_list(gs.waiting_list, gs.sent_list)"
   ]
  },
  {
   "cell_type": "markdown",
   "metadata": {},
   "source": [
    "### Print the list to check with the status"
   ]
  },
  {
   "cell_type": "code",
   "execution_count": null,
   "metadata": {},
   "outputs": [],
   "source": [
    "gs.print_list(gs.waiting_list, gs.sent_list)"
   ]
  },
  {
   "cell_type": "markdown",
   "metadata": {},
   "source": [
    "## Check if the template content fits your expectation"
   ]
  },
  {
   "cell_type": "code",
   "execution_count": null,
   "metadata": {},
   "outputs": [],
   "source": [
    "temp = gs.waiting_list[0]\n",
    "print(gs.content.format(temp[1], temp[0], temp[3]))"
   ]
  },
  {
   "cell_type": "markdown",
   "metadata": {},
   "source": [
    "<html>\n",
    "          <head></head>\n",
    "          <body>\n",
    "            <p>Hi XXX,<br><br>\n",
    "               You midterm score report:<br>\n",
    "               Student ID: <strong>97XXXX63</strong>, Score: <strong>99</strong>,<br>\n",
    "               Contact with your assigned TA if any question.<br>\n",
    "               Grade appeal will lead to answersheet regrading, which may lower your score.<br><br>\n",
    "               Best regards,<br>\n",
    "               Instructors\n",
    "            </p>\n",
    "          </body>\n",
    "        </html>"
   ]
  },
  {
   "cell_type": "markdown",
   "metadata": {},
   "source": [
    "## Try the best to send the score!\n",
    "\n",
    "**ATTENTION: 5 ship / min**\n",
    "\n",
    "Wait 1 min every 5 mails\n",
    "\n",
    "Syntax:\n",
    "```\n",
    "waiting_list[i] = (id, name, email, score)\n",
    "send(mail, name, id, score):\n",
    "```"
   ]
  },
  {
   "cell_type": "code",
   "execution_count": null,
   "metadata": {
    "scrolled": false
   },
   "outputs": [],
   "source": [
    "try:\n",
    "    gs.send_score(gs.waiting_list, gs.sent_list)\n",
    "except:\n",
    "    print(\"failed!\")\n",
    "    gs.write_sent_list(gs.waiting_list, gs.sent_list)"
   ]
  },
  {
   "cell_type": "markdown",
   "metadata": {},
   "source": [
    "# Done!"
   ]
  }
 ],
 "metadata": {
  "kernelspec": {
   "display_name": "Python 3",
   "language": "python",
   "name": "python3"
  },
  "language_info": {
   "codemirror_mode": {
    "name": "ipython",
    "version": 3
   },
   "file_extension": ".py",
   "mimetype": "text/x-python",
   "name": "python",
   "nbconvert_exporter": "python",
   "pygments_lexer": "ipython3",
   "version": "3.6.2"
  }
 },
 "nbformat": 4,
 "nbformat_minor": 2
}
